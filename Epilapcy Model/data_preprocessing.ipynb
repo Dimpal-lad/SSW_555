{
 "cells": [
  {
   "cell_type": "markdown",
   "id": "b479b4d6-9e49-4168-96bb-b78d960ee717",
   "metadata": {},
   "source": [
    "# 1. Raw Data Preprocess"
   ]
  },
  {
   "cell_type": "markdown",
   "id": "e87a5494-844e-4402-b7e6-106725ef2e34",
   "metadata": {},
   "source": [
    "## 1.1 Load raw.fif data"
   ]
  },
  {
   "cell_type": "code",
   "execution_count": null,
   "id": "ae5989e9-57f1-4f67-94f0-7d42eaddbbc2",
   "metadata": {},
   "outputs": [],
   "source": [
    "import os\n",
    "import scipy.io as sio\n",
    "import mne\n",
    "from mne.datasets import sample"
   ]
  },
  {
   "cell_type": "code",
   "execution_count": null,
   "id": "7b3e5435-3baa-4f55-aaf9-e32096c19e9b",
   "metadata": {},
   "outputs": [
    {
     "name": "stdout",
     "output_type": "stream",
     "text": [
      "Opening raw data file C:\\Users\\krina\\mne_data\\MNE-sample-data\\MEG\\sample\\sample_audvis_filt-0-40_raw.fif...\n",
      "    Read a total of 4 projection items:\n",
      "        PCA-v1 (1 x 102)  idle\n",
      "        PCA-v2 (1 x 102)  idle\n",
      "        PCA-v3 (1 x 102)  idle\n",
      "        Average EEG reference (1 x 60)  idle\n",
      "    Range : 6450 ... 48149 =     42.956 ...   320.665 secs\n",
      "Ready.\n",
      "Reading 0 ... 41699  =      0.000 ...   277.709 secs...\n"
     ]
    }
   ],
   "source": [
    "\"\"\"\n",
    "set data path (load sample data from MNE)\n",
    "\"\"\"\n",
    "data_path = sample.data_path()\n",
    "raw_fname = data_path / 'MEG' / 'sample' / 'sample_audvis_filt-0-40_raw.fif'\n",
    "raw = mne.io.read_raw_fif(raw_fname, preload=True)"
   ]
  },
  {
   "cell_type": "markdown",
   "id": "97f1e89c-ca1c-4479-8025-bd2a174b9f00",
   "metadata": {},
   "source": [
    "## 1.2 data filtering"
   ]
  },
  {
   "cell_type": "code",
   "execution_count": null,
   "id": "f7a1dba4-87b8-4d1d-b3cd-d048e6f24fcc",
   "metadata": {},
   "outputs": [
    {
     "name": "stdout",
     "output_type": "stream",
     "text": [
      "Filtering raw data in 1 contiguous segment\n",
      "Setting up band-pass filter from 1 - 30 Hz\n",
      "\n",
      "FIR filter parameters\n",
      "---------------------\n",
      "Designing a one-pass, zero-phase, non-causal bandpass filter:\n",
      "- Windowed time-domain design (firwin) method\n",
      "- Hamming window with 0.0194 passband ripple and 53 dB stopband attenuation\n",
      "- Lower passband edge: 1.00\n",
      "- Lower transition bandwidth: 1.00 Hz (-6 dB cutoff frequency: 0.50 Hz)\n",
      "- Upper passband edge: 30.00 Hz\n",
      "- Upper transition bandwidth: 7.50 Hz (-6 dB cutoff frequency: 33.75 Hz)\n",
      "- Filter length: 497 samples (3.310 s)\n",
      "\n"
     ]
    },
    {
     "name": "stderr",
     "output_type": "stream",
     "text": [
      "[Parallel(n_jobs=1)]: Done  17 tasks      | elapsed:    0.0s\n",
      "[Parallel(n_jobs=1)]: Done  71 tasks      | elapsed:    0.2s\n",
      "[Parallel(n_jobs=1)]: Done 161 tasks      | elapsed:    0.6s\n",
      "[Parallel(n_jobs=1)]: Done 287 tasks      | elapsed:    1.1s\n"
     ]
    },
    {
     "data": {
      "text/html": [
       "<details open>\n",
       "    <summary><strong>General</strong></summary>\n",
       "    <table class=\"table table-hover table-striped table-sm table-responsive small\">\n",
       "        <tr>\n",
       "            <th>Measurement date</th>\n",
       "            \n",
       "            <td>December 03, 2002  19:01:10 GMT</td>\n",
       "            \n",
       "        </tr>\n",
       "        <tr>\n",
       "            <th>Experimenter</th>\n",
       "            \n",
       "            <td>Unknown</td>\n",
       "            \n",
       "        </tr>\n",
       "        <tr>\n",
       "            <th>Participant</th>\n",
       "            \n",
       "            <td>Unknown</td>\n",
       "            \n",
       "        </tr>\n",
       "    </table>\n",
       "    </details>\n",
       "    <details open>\n",
       "        <summary><strong>Channels</strong></summary>\n",
       "        <table class=\"table table-hover table-striped table-sm table-responsive small\">\n",
       "            <tr>\n",
       "                <th>Digitized points</th>\n",
       "                \n",
       "                <td>146 points</td>\n",
       "                \n",
       "            </tr>\n",
       "            <tr>\n",
       "                <th>Good channels</th>\n",
       "                <td>203 Gradiometers, 102 Magnetometers, 9 Stimulus, 59 EEG, 1 EOG</td>\n",
       "            </tr>\n",
       "            <tr>\n",
       "                <th>Bad channels</th>\n",
       "                <td>MEG 2443, EEG 053</td>\n",
       "            </tr>\n",
       "            <tr>\n",
       "                <th>EOG channels</th>\n",
       "                <td>EOG 061</td>\n",
       "            </tr>\n",
       "            <tr>\n",
       "                <th>ECG channels</th>\n",
       "                <td>Not available</td>\n",
       "            </tr>\n",
       "        </table>\n",
       "        </details>\n",
       "        <details open>\n",
       "            <summary><strong>Data</strong></summary>\n",
       "            <table class=\"table table-hover table-striped table-sm table-responsive small\">\n",
       "                \n",
       "                <tr>\n",
       "                    <th>Sampling frequency</th>\n",
       "                    <td>150.15 Hz</td>\n",
       "                </tr>\n",
       "                \n",
       "                \n",
       "                <tr>\n",
       "                    <th>Highpass</th>\n",
       "                    <td>1.00 Hz</td>\n",
       "                </tr>\n",
       "                \n",
       "                \n",
       "                <tr>\n",
       "                    <th>Lowpass</th>\n",
       "                    <td>30.00 Hz</td>\n",
       "                </tr>\n",
       "                \n",
       "                \n",
       "                <tr>\n",
       "                    <th>Projections</th>\n",
       "                    <td>PCA-v1 : off<br />PCA-v2 : off<br />PCA-v3 : off<br />Average EEG reference : off</td>\n",
       "                </tr>\n",
       "                \n",
       "                \n",
       "                <tr>\n",
       "                    <th>Filenames</th>\n",
       "                    <td>sample_audvis_filt-0-40_raw.fif</td>\n",
       "                </tr>\n",
       "                \n",
       "                \n",
       "                <tr>\n",
       "                    <th>Duration</th>\n",
       "                    <td>00:04:38 (HH:MM:SS)</td>\n",
       "                </tr>\n",
       "                \n",
       "            </table>\n",
       "            </details>"
      ],
      "text/plain": [
       "<Raw | sample_audvis_filt-0-40_raw.fif, 376 x 41700 (277.7 s), ~122.8 MB, data loaded>"
      ]
     },
     "execution_count": 3,
     "metadata": {},
     "output_type": "execute_result"
    }
   ],
   "source": [
    "\"\"\"\n",
    "set low frequency & high frequency\n",
    "\"\"\"\n",
    "l_freq, h_freq = 1, 30\n",
    "raw.filter(l_freq, h_freq, method='fir', fir_design='firwin')"
   ]
  },
  {
   "cell_type": "markdown",
   "id": "b2a3348b-d47f-43d7-bf16-8eb1dab533e0",
   "metadata": {},
   "source": [
    "## 1.3 data resampling"
   ]
  },
  {
   "cell_type": "code",
   "execution_count": null,
   "id": "35181c57-af13-4bfe-ae4c-9b0210f0621d",
   "metadata": {},
   "outputs": [
    {
     "name": "stdout",
     "output_type": "stream",
     "text": [
      "319 events found on stim channel STI 014\n",
      "Event IDs: [ 1  2  3  4  5 32]\n",
      "319 events found on stim channel STI 014\n",
      "Event IDs: [ 1  2  3  4  5 32]\n"
     ]
    }
   ],
   "source": [
    "\"\"\"\n",
    "set resample frequency\n",
    "\"\"\"\n",
    "sfreq_resample = 480\n",
    "raw = raw.resample(sfreq_resample)"
   ]
  },
  {
   "cell_type": "markdown",
   "id": "d87af50c-44e1-4a74-bf10-f57ccebd3ecd",
   "metadata": {},
   "source": [
    "## 1.4 plot events"
   ]
  },
  {
   "cell_type": "code",
   "execution_count": null,
   "id": "4ba6e8d4-02e6-482f-99f2-0f50238304ee",
   "metadata": {},
   "outputs": [
    {
     "name": "stdout",
     "output_type": "stream",
     "text": [
      "319 events found on stim channel STI 014\n",
      "Event IDs: [ 1  2  3  4  5 32]\n"
     ]
    }
   ],
   "source": [
    "\"\"\"\n",
    "get events\n",
    "\"\"\"\n",
    "events = mne.find_events(raw, stim_channel=\"STI 014\")"
   ]
  },
  {
   "cell_type": "code",
   "execution_count": null,
   "id": "e1a6af33-b85c-41f6-ab74-d1cc58b7362b",
   "metadata": {},
   "outputs": [],
   "source": [
    "\"\"\"\n",
    "set events id (for mne sample data, we ignore event 5 & 32)\n",
    "\"smiley\": 5\n",
    "\"buttonpress\": 32\n",
    "\"\"\"\n",
    "# LA: auditory/left\n",
    "# RA: auditory/right\n",
    "# LV: visual/left\n",
    "# RV: visual/right\n",
    "event_dict = {\n",
    "    \"LA\": 1,\n",
    "    \"RA\": 2,\n",
    "    \"LV\": 3,\n",
    "    \"RV\": 4,\n",
    "}"
   ]
  },
  {
   "cell_type": "code",
   "execution_count": null,
   "id": "0e63b312-f3b0-4c0c-9c1a-0467ab42c58e",
   "metadata": {},
   "outputs": [
    {
     "name": "stderr",
     "output_type": "stream",
     "text": [
      "C:\\Users\\krina\\AppData\\Local\\Temp\\ipykernel_12448\\2314868964.py:4: RuntimeWarning: event 5 missing from event_id will be ignored\n",
      "  fig = mne.viz.plot_events(\n",
      "C:\\Users\\krina\\AppData\\Local\\Temp\\ipykernel_12448\\2314868964.py:4: RuntimeWarning: event 32 missing from event_id will be ignored\n",
      "  fig = mne.viz.plot_events(\n"
     ]
    },
    {
     "data": {
      "image/png": "[encoded data removed]",
      "text/plain": [
       "<Figure size 640x480 with 1 Axes>"
      ]
     },
     "metadata": {},
     "output_type": "display_data"
    }
   ],
   "source": [
    "\"\"\"\n",
    "plot events distribution\n",
    "\"\"\"\n",
    "fig = mne.viz.plot_events(\n",
    "    events, sfreq=raw.info[\"sfreq\"], first_samp=raw.first_samp, event_id=event_dict\n",
    ")"
   ]
  },
  {
   "cell_type": "code",
   "execution_count": null,
   "id": "98d9fa92-0245-49b8-870d-a1213cde8cea",
   "metadata": {},
   "outputs": [
    {
     "name": "stdout",
     "output_type": "stream",
     "text": [
      "Using qt as 2D backend.\n"
     ]
    }
   ],
   "source": [
    "\"\"\"\n",
    "plot events with raw data\n",
    "\"\"\"\n",
    "fig = raw.plot(\n",
    "    events=events,\n",
    "    start=5,\n",
    "    duration=10,\n",
    "    color=\"gray\",\n",
    "    event_color={1: \"r\", 2: \"g\", 3: \"b\", 4: \"m\", 5: \"y\", 32: \"k\"}, # set color according to events id\n",
    ")"
   ]
  },
  {
   "cell_type": "markdown",
   "id": "40d6918f-7524-4e3d-bad7-566b5010a477",
   "metadata": {},
   "source": [
    "## 1.5 get averaged EEG data for each task"
   ]
  },
  {
   "cell_type": "code",
   "execution_count": null,
   "id": "9057f4c8-2edb-4d8d-96b0-106012ec9339",
   "metadata": {},
   "outputs": [],
   "source": [
    "# choose event id from [1, 2, 3, 4] or [\"LA\", \"RA\", \"LV\", \"RV\"]\n",
    "event_id = 'LA'\n",
    "\n",
    "# set path to save data\n",
    "path = './data/real_data/'\n",
    "if not os.path.exists(path):\n",
    "    os.makedirs(path)\n",
    "fig_name = path + 'evoked_eeg_'+str(event_id)+'.png'\n",
    "mat_name = path + 'evoked_eeg_'+str(event_id)+'.mat'"
   ]
  },
  {
   "cell_type": "code",
   "execution_count": null,
   "id": "bb0f826b-b150-4212-ab35-59ba650a469d",
   "metadata": {},
   "outputs": [
    {
     "name": "stdout",
     "output_type": "stream",
     "text": [
      "Not setting metadata\n",
      "288 matching events found\n",
      "Setting baseline interval to [-0.1, 0.0] s\n",
      "Applying baseline correction (mode: mean)\n",
      "Created an SSP operator (subspace dimension = 4)\n",
      "4 projection items activated\n",
      "    Rejecting  epoch based on EOG : ['EOG 061']\n"
     ]
    }
   ],
   "source": [
    "# fix\n",
    "tmin = -0.1  # start of each epoch (100ms before the event)\n",
    "tmax = 0.4  # end of each epoch (400ms after the event)\n",
    "raw.info['bads'] = ['MEG 2443', 'EEG 053']\n",
    "baseline = (None, 0)  # means from the first instant to t = 0\n",
    "reject = dict(grad=4000e-13, mag=4e-12, eog=150e-6)\n",
    "picks = mne.pick_types(raw.info, meg=True, eeg=True, eog=True, exclude='bads')\n",
    "epochs = mne.Epochs(raw, events, event_dict, tmin, tmax, proj=True,\n",
    "                    picks=picks, baseline=baseline, reject=reject)\n",
    "epoch_use = epochs[event_id]\n",
    "evoked_use = epoch_use.average()"
   ]
  },
  {
   "cell_type": "code",
   "execution_count": null,
   "id": "df8c9e3a-f6cb-472e-9cd0-44b2748684a0",
   "metadata": {},
   "outputs": [],
   "source": [
    "fig = evoked_use.plot_topomap(times=[0.0, 0.08, 0.1, 0.12, 0.2], ch_type=\"eeg\")\n",
    "fig.savefig(fig_name, dpi=300, bbox_inches='tight')"
   ]
  },
  {
   "cell_type": "code",
   "execution_count": null,
   "id": "a570f781-94bd-4886-a592-51b616af8a1f",
   "metadata": {},
   "outputs": [],
   "source": [
    "data = evoked_use.data[:, :]\n",
    "sio.savemat(mat_name, {'eeg': data})"
   ]
  },
  {
   "cell_type": "code",
   "execution_count": null,
   "id": "3f713471-4c49-4628-bff4-4f48d2fcb34f",
   "metadata": {},
   "outputs": [],
   "source": [
    "pip install torch"
   ]
  },
  {
   "cell_type": "code",
   "execution_count": null,
   "id": "72e3cc01-3add-4951-887d-e6967c46fde8",
   "metadata": {},
   "outputs": [],
   "source": [
    "pip install torchvision"
   ]
  },
  {
   "cell_type": "code",
   "execution_count": null,
   "id": "9162e599-bc77-421a-b74c-effb6837a3df",
   "metadata": {},
   "outputs": [],
   "source": []
  }
 ],
 "metadata": {
  "kernelspec": {
   "display_name": "Python 3 (ipykernel)",
   "language": "python",
   "name": "python3"
  },
  "language_info": {
   "codemirror_mode": {
    "name": "ipython",
    "version": 3
   },
   "file_extension": ".py",
   "mimetype": "text/x-python",
   "name": "python",
   "nbconvert_exporter": "python",
   "pygments_lexer": "ipython3",
   "version": "3.12.2"
  }
 },
 "nbformat": 4,
 "nbformat_minor": 5
}
